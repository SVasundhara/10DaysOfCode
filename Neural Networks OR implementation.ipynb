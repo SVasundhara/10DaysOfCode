{
 "cells": [
  {
   "cell_type": "code",
   "execution_count": 1,
   "metadata": {},
   "outputs": [],
   "source": [
    "#MY CODE FOR NEURAL NETWORKS WITH NO HIDDEN LAYER:\n",
    "#this is to implement OR  function"
   ]
  },
  {
   "cell_type": "code",
   "execution_count": 2,
   "metadata": {},
   "outputs": [],
   "source": [
    "import numpy as np\n"
   ]
  },
  {
   "cell_type": "code",
   "execution_count": 64,
   "metadata": {},
   "outputs": [
    {
     "data": {
      "text/plain": [
       "((4, 2), (4, 1))"
      ]
     },
     "execution_count": 64,
     "metadata": {},
     "output_type": "execute_result"
    }
   ],
   "source": [
    "X=np.array([[0,0],[0,1],[1,0],[1,1]])\n",
    "Y=np.array([[0,1,1,1]]).T\n",
    "X.shape,Y.shape"
   ]
  },
  {
   "cell_type": "code",
   "execution_count": 65,
   "metadata": {},
   "outputs": [],
   "source": [
    "#forward propagation\n",
    "def sig(z):\n",
    "    return 1/(1+np.exp(-z))\n"
   ]
  },
  {
   "cell_type": "code",
   "execution_count": 66,
   "metadata": {},
   "outputs": [
    {
     "data": {
      "text/plain": [
       "(array([[ 0.43801956],\n",
       "        [-0.11781338]]), array([-0.42545066]))"
      ]
     },
     "execution_count": 66,
     "metadata": {},
     "output_type": "execute_result"
    }
   ],
   "source": [
    "weights=2*np.random.random((2,1))-1\n",
    "bias=2*np.random.random(1)-1\n",
    "weights,bias"
   ]
  },
  {
   "cell_type": "code",
   "execution_count": 67,
   "metadata": {},
   "outputs": [
    {
     "data": {
      "text/plain": [
       "array([[0.39521319],\n",
       "       [0.36742861],\n",
       "       [0.50314218],\n",
       "       [0.47371314]])"
      ]
     },
     "execution_count": 67,
     "metadata": {},
     "output_type": "execute_result"
    }
   ],
   "source": [
    "#input layer has x1,x2,1\n",
    "#output layer has output connectes via weights and bias term to the input layer\n",
    "out_1=X\n",
    "output=sig(np.dot(out_1,weights)+bias)\n",
    "output"
   ]
  },
  {
   "cell_type": "code",
   "execution_count": 68,
   "metadata": {},
   "outputs": [],
   "source": [
    "#backpropagation\n",
    "#Here we'll use gradient descent\n",
    "#first, we will try to minimize the error function with respect to the weights because we want to alter the weights\n",
    "#so as to get the desired results\n",
    "#dE/dwij has to be found\n",
    "#Error=((ypred-yactual)**2)/2\n",
    "#dE/dwij=(dE/doi)(doi/dinput)(dinput/dwij)\n",
    "#(dE/dOj) for output layer is (ypred-yactual) ------term 1\n",
    "#dinput/dwij=oi(prev layer ka input jisse wij is multiplied)----term 2 \n",
    "#common for both wij\n",
    "#doj/dinput=oj(1-oj) as oj=input(input)----term3\n"
   ]
  },
  {
   "cell_type": "code",
   "execution_count": 69,
   "metadata": {},
   "outputs": [],
   "source": [
    "def diffsig(z):\n",
    "    return sig(z)*(1-sig(z))"
   ]
  },
  {
   "cell_type": "code",
   "execution_count": 70,
   "metadata": {},
   "outputs": [
    {
     "data": {
      "text/plain": [
       "array([[ 0.39521319],\n",
       "       [-0.63257139],\n",
       "       [-0.49685782],\n",
       "       [-0.52628686]])"
      ]
     },
     "execution_count": 70,
     "metadata": {},
     "output_type": "execute_result"
    }
   ],
   "source": [
    "output-Y"
   ]
  },
  {
   "cell_type": "code",
   "execution_count": 71,
   "metadata": {},
   "outputs": [
    {
     "data": {
      "text/plain": [
       "array([[0.03778658],\n",
       "       [0.97630227],\n",
       "       [0.9763027 ],\n",
       "       [0.99997686]])"
      ]
     },
     "execution_count": 71,
     "metadata": {},
     "output_type": "execute_result"
    }
   ],
   "source": [
    "for iter in range(10000):\n",
    "    out_1=X\n",
    "    output=sig(np.dot(out_1,weights)+bias)\n",
    "    lr=0.2 #learning rate\n",
    "    first_term=output-Y\n",
    "    prev_input=bias+np.dot(X,weights)\n",
    "    second_term=diffsig(prev_input)\n",
    "    first_two=first_term*second_term\n",
    "    #third term gives ith term of prev layer i.e. ith input\n",
    "    delta=np.array([[0.0],[0.0]]) #2x1 2 rows 1 column\n",
    "    for i in range(2): #iterating through each column\n",
    "        for j in range(4): #iterating through each row\n",
    "            delta[i][0]+=first_two[j][0]*X[j][i]\n",
    "    del_bias=0\n",
    "    for j in range(4):\n",
    "        del_bias+=first_two[j][0]*1\n",
    "    bias=bias-lr*del_bias\n",
    "    weights=weights-lr*delta\n",
    "output"
   ]
  },
  {
   "cell_type": "code",
   "execution_count": null,
   "metadata": {},
   "outputs": [],
   "source": []
  },
  {
   "cell_type": "code",
   "execution_count": null,
   "metadata": {},
   "outputs": [],
   "source": []
  },
  {
   "cell_type": "code",
   "execution_count": null,
   "metadata": {},
   "outputs": [],
   "source": []
  }
 ],
 "metadata": {
  "kernelspec": {
   "display_name": "Python 3",
   "language": "python",
   "name": "python3"
  },
  "language_info": {
   "codemirror_mode": {
    "name": "ipython",
    "version": 3
   },
   "file_extension": ".py",
   "mimetype": "text/x-python",
   "name": "python",
   "nbconvert_exporter": "python",
   "pygments_lexer": "ipython3",
   "version": "3.6.8"
  }
 },
 "nbformat": 4,
 "nbformat_minor": 2
}
