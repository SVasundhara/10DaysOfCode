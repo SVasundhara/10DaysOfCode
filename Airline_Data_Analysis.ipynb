{
  "nbformat": 4,
  "nbformat_minor": 0,
  "metadata": {
    "colab": {
      "name": "Airline Data Analysis.ipynb",
      "version": "0.3.2",
      "provenance": []
    },
    "kernelspec": {
      "name": "python3",
      "display_name": "Python 3"
    }
  },
  "cells": [
    {
      "metadata": {
        "id": "dyabpQWduDh0",
        "colab_type": "code",
        "colab": {}
      },
      "cell_type": "code",
      "source": [
        "from pandas import read_csv\n",
        "import numpy as np"
      ],
      "execution_count": 0,
      "outputs": []
    },
    {
      "metadata": {
        "id": "4vqo1EJm1NIy",
        "colab_type": "code",
        "colab": {}
      },
      "cell_type": "code",
      "source": [
        "df=read_csv(\"international-airline-passengers.csv\",usecols=[1])"
      ],
      "execution_count": 0,
      "outputs": []
    },
    {
      "metadata": {
        "id": "CctEHrnZ2c7Q",
        "colab_type": "code",
        "colab": {
          "base_uri": "https://localhost:8080/",
          "height": 284
        },
        "outputId": "66613bee-050c-4ea9-e61f-80817364e5ab"
      },
      "cell_type": "code",
      "source": [
        "df.describe()"
      ],
      "execution_count": 7,
      "outputs": [
        {
          "output_type": "execute_result",
          "data": {
            "text/html": [
              "<div>\n",
              "<style scoped>\n",
              "    .dataframe tbody tr th:only-of-type {\n",
              "        vertical-align: middle;\n",
              "    }\n",
              "\n",
              "    .dataframe tbody tr th {\n",
              "        vertical-align: top;\n",
              "    }\n",
              "\n",
              "    .dataframe thead th {\n",
              "        text-align: right;\n",
              "    }\n",
              "</style>\n",
              "<table border=\"1\" class=\"dataframe\">\n",
              "  <thead>\n",
              "    <tr style=\"text-align: right;\">\n",
              "      <th></th>\n",
              "      <th>International airline passengers: monthly totals in thousands. Jan 49 ? Dec 60</th>\n",
              "    </tr>\n",
              "  </thead>\n",
              "  <tbody>\n",
              "    <tr>\n",
              "      <th>count</th>\n",
              "      <td>144.000000</td>\n",
              "    </tr>\n",
              "    <tr>\n",
              "      <th>mean</th>\n",
              "      <td>280.298611</td>\n",
              "    </tr>\n",
              "    <tr>\n",
              "      <th>std</th>\n",
              "      <td>119.966317</td>\n",
              "    </tr>\n",
              "    <tr>\n",
              "      <th>min</th>\n",
              "      <td>104.000000</td>\n",
              "    </tr>\n",
              "    <tr>\n",
              "      <th>25%</th>\n",
              "      <td>180.000000</td>\n",
              "    </tr>\n",
              "    <tr>\n",
              "      <th>50%</th>\n",
              "      <td>265.500000</td>\n",
              "    </tr>\n",
              "    <tr>\n",
              "      <th>75%</th>\n",
              "      <td>360.500000</td>\n",
              "    </tr>\n",
              "    <tr>\n",
              "      <th>max</th>\n",
              "      <td>622.000000</td>\n",
              "    </tr>\n",
              "  </tbody>\n",
              "</table>\n",
              "</div>"
            ],
            "text/plain": [
              "       International airline passengers: monthly totals in thousands. Jan 49 ? Dec 60\n",
              "count                                         144.000000                             \n",
              "mean                                          280.298611                             \n",
              "std                                           119.966317                             \n",
              "min                                           104.000000                             \n",
              "25%                                           180.000000                             \n",
              "50%                                           265.500000                             \n",
              "75%                                           360.500000                             \n",
              "max                                           622.000000                             "
            ]
          },
          "metadata": {
            "tags": []
          },
          "execution_count": 7
        }
      ]
    },
    {
      "metadata": {
        "id": "gpZjg3V92fW1",
        "colab_type": "code",
        "colab": {
          "base_uri": "https://localhost:8080/",
          "height": 34
        },
        "outputId": "05f4ac84-e400-4f96-d848-c001eb4c4083"
      },
      "cell_type": "code",
      "source": [
        "values=df.values.astype('float32')\n",
        "values.shape"
      ],
      "execution_count": 9,
      "outputs": [
        {
          "output_type": "execute_result",
          "data": {
            "text/plain": [
              "(144, 1)"
            ]
          },
          "metadata": {
            "tags": []
          },
          "execution_count": 9
        }
      ]
    },
    {
      "metadata": {
        "id": "E7yx_KkO2ON7",
        "colab_type": "code",
        "colab": {}
      },
      "cell_type": "code",
      "source": [
        "train_size=int((values.shape[0]*0.67))\n",
        "test_size=values.shape[0]-train_size\n",
        "train=values[0:train_size]\n",
        "test=values[test_size:]"
      ],
      "execution_count": 0,
      "outputs": []
    },
    {
      "metadata": {
        "id": "EcC-mrlm3cww",
        "colab_type": "code",
        "colab": {}
      },
      "cell_type": "code",
      "source": [
        "from sklearn.preprocessing import MinMaxScaler\n",
        "scaler=MinMaxScaler(feature_range=(0,1))\n",
        "train=scaler.fit_transform(train)\n",
        "test=scaler.transform(test)"
      ],
      "execution_count": 0,
      "outputs": []
    },
    {
      "metadata": {
        "id": "NdCIQFYk36tp",
        "colab_type": "code",
        "colab": {}
      },
      "cell_type": "code",
      "source": [
        "def create_dataset(data,k):\n",
        "  dataX,dataY=[],[]\n",
        "  for i in range(data.shape[0]-k):\n",
        "    x=data[i:i+k,0]\n",
        "    y=data[i+k,0]\n",
        "    dataX.append(x)\n",
        "    dataY.append(y)\n",
        "  return np.array(dataX),np.array(dataY)\n",
        "  "
      ],
      "execution_count": 0,
      "outputs": []
    },
    {
      "metadata": {
        "id": "p3v-6oLj1q0c",
        "colab_type": "code",
        "colab": {}
      },
      "cell_type": "code",
      "source": [
        "look_back=12\n",
        "trainX,trainY=create_dataset(train,look_back)\n",
        "testX,testY=create_dataset(test,look_back)"
      ],
      "execution_count": 0,
      "outputs": []
    },
    {
      "metadata": {
        "id": "Vq9kOtR_7oCl",
        "colab_type": "code",
        "colab": {
          "base_uri": "https://localhost:8080/",
          "height": 34
        },
        "outputId": "86706576-34f0-42a2-c23c-90c64493ee31"
      },
      "cell_type": "code",
      "source": [
        "trainX=np.reshape(trainX,(trainX.shape[0],trainX.shape[1],1))\n",
        "testX=np.reshape(testX,(testX.shape[0],testX.shape[1],1))\n",
        "trainX.shape"
      ],
      "execution_count": 21,
      "outputs": [
        {
          "output_type": "execute_result",
          "data": {
            "text/plain": [
              "(84, 12, 1)"
            ]
          },
          "metadata": {
            "tags": []
          },
          "execution_count": 21
        }
      ]
    },
    {
      "metadata": {
        "id": "YZFQzmhO5JJi",
        "colab_type": "code",
        "colab": {
          "base_uri": "https://localhost:8080/",
          "height": 34
        },
        "outputId": "e66d9523-38de-4993-98f5-71e4615f7732"
      },
      "cell_type": "code",
      "source": [
        "from keras.models import Sequential\n",
        "from keras.layers import SimpleRNN,Dense"
      ],
      "execution_count": 18,
      "outputs": [
        {
          "output_type": "stream",
          "text": [
            "Using TensorFlow backend.\n"
          ],
          "name": "stderr"
        }
      ]
    },
    {
      "metadata": {
        "id": "UPo4GIjY6MSS",
        "colab_type": "code",
        "colab": {
          "base_uri": "https://localhost:8080/",
          "height": 3680
        },
        "outputId": "b0a6f081-3623-4761-fa0b-e74b926aaf8f"
      },
      "cell_type": "code",
      "source": [
        "model=Sequential()\n",
        "model.add(SimpleRNN(4,input_shape=(look_back,1)))\n",
        "model.add(Dense(1))\n",
        "model.compile(loss='mean_squared_error',optimizer='adam')\n",
        "model.fit(trainX,trainY,epochs=100,batch_size=1)"
      ],
      "execution_count": 24,
      "outputs": [
        {
          "output_type": "stream",
          "text": [
            "WARNING:tensorflow:From /usr/local/lib/python3.6/dist-packages/tensorflow/python/framework/op_def_library.py:263: colocate_with (from tensorflow.python.framework.ops) is deprecated and will be removed in a future version.\n",
            "Instructions for updating:\n",
            "Colocations handled automatically by placer.\n",
            "WARNING:tensorflow:From /usr/local/lib/python3.6/dist-packages/tensorflow/python/ops/math_ops.py:3066: to_int32 (from tensorflow.python.ops.math_ops) is deprecated and will be removed in a future version.\n",
            "Instructions for updating:\n",
            "Use tf.cast instead.\n",
            "Epoch 1/100\n",
            "84/84 [==============================] - 1s 9ms/step - loss: 0.2986\n",
            "Epoch 2/100\n",
            "84/84 [==============================] - 0s 2ms/step - loss: 0.1102\n",
            "Epoch 3/100\n",
            "84/84 [==============================] - 0s 2ms/step - loss: 0.0576\n",
            "Epoch 4/100\n",
            "84/84 [==============================] - 0s 2ms/step - loss: 0.0397\n",
            "Epoch 5/100\n",
            "84/84 [==============================] - 0s 2ms/step - loss: 0.0333\n",
            "Epoch 6/100\n",
            "84/84 [==============================] - 0s 2ms/step - loss: 0.0289\n",
            "Epoch 7/100\n",
            "84/84 [==============================] - 0s 2ms/step - loss: 0.0257\n",
            "Epoch 8/100\n",
            "84/84 [==============================] - 0s 2ms/step - loss: 0.0225\n",
            "Epoch 9/100\n",
            "84/84 [==============================] - 0s 2ms/step - loss: 0.0206\n",
            "Epoch 10/100\n",
            "84/84 [==============================] - 0s 2ms/step - loss: 0.0182\n",
            "Epoch 11/100\n",
            "84/84 [==============================] - 0s 2ms/step - loss: 0.0160\n",
            "Epoch 12/100\n",
            "84/84 [==============================] - 0s 2ms/step - loss: 0.0143\n",
            "Epoch 13/100\n",
            "84/84 [==============================] - 0s 2ms/step - loss: 0.0125\n",
            "Epoch 14/100\n",
            "84/84 [==============================] - 0s 2ms/step - loss: 0.0123\n",
            "Epoch 15/100\n",
            "84/84 [==============================] - 0s 2ms/step - loss: 0.0105\n",
            "Epoch 16/100\n",
            "84/84 [==============================] - 0s 2ms/step - loss: 0.0093\n",
            "Epoch 17/100\n",
            "84/84 [==============================] - 0s 2ms/step - loss: 0.0084\n",
            "Epoch 18/100\n",
            "84/84 [==============================] - 0s 2ms/step - loss: 0.0077\n",
            "Epoch 19/100\n",
            "84/84 [==============================] - 0s 2ms/step - loss: 0.0077\n",
            "Epoch 20/100\n",
            "84/84 [==============================] - 0s 2ms/step - loss: 0.0077\n",
            "Epoch 21/100\n",
            "84/84 [==============================] - 0s 2ms/step - loss: 0.0067\n",
            "Epoch 22/100\n",
            "84/84 [==============================] - 0s 2ms/step - loss: 0.0070\n",
            "Epoch 23/100\n",
            "84/84 [==============================] - 0s 2ms/step - loss: 0.0062\n",
            "Epoch 24/100\n",
            "84/84 [==============================] - 0s 2ms/step - loss: 0.0057\n",
            "Epoch 25/100\n",
            "84/84 [==============================] - 0s 2ms/step - loss: 0.0058\n",
            "Epoch 26/100\n",
            "84/84 [==============================] - 0s 2ms/step - loss: 0.0059\n",
            "Epoch 27/100\n",
            "84/84 [==============================] - 0s 2ms/step - loss: 0.0052\n",
            "Epoch 28/100\n",
            "84/84 [==============================] - 0s 2ms/step - loss: 0.0059\n",
            "Epoch 29/100\n",
            "84/84 [==============================] - 0s 2ms/step - loss: 0.0048\n",
            "Epoch 30/100\n",
            "84/84 [==============================] - 0s 2ms/step - loss: 0.0050\n",
            "Epoch 31/100\n",
            "84/84 [==============================] - 0s 2ms/step - loss: 0.0050\n",
            "Epoch 32/100\n",
            "84/84 [==============================] - 0s 2ms/step - loss: 0.0056\n",
            "Epoch 33/100\n",
            "84/84 [==============================] - 0s 2ms/step - loss: 0.0043\n",
            "Epoch 34/100\n",
            "84/84 [==============================] - 0s 2ms/step - loss: 0.0054\n",
            "Epoch 35/100\n",
            "84/84 [==============================] - 0s 2ms/step - loss: 0.0046\n",
            "Epoch 36/100\n",
            "84/84 [==============================] - 0s 2ms/step - loss: 0.0050\n",
            "Epoch 37/100\n",
            "84/84 [==============================] - 0s 2ms/step - loss: 0.0049\n",
            "Epoch 38/100\n",
            "84/84 [==============================] - 0s 2ms/step - loss: 0.0048\n",
            "Epoch 39/100\n",
            "84/84 [==============================] - 0s 2ms/step - loss: 0.0047\n",
            "Epoch 40/100\n",
            "84/84 [==============================] - 0s 2ms/step - loss: 0.0046\n",
            "Epoch 41/100\n",
            "84/84 [==============================] - 0s 2ms/step - loss: 0.0046\n",
            "Epoch 42/100\n",
            "84/84 [==============================] - 0s 2ms/step - loss: 0.0048\n",
            "Epoch 43/100\n",
            "84/84 [==============================] - 0s 2ms/step - loss: 0.0046\n",
            "Epoch 44/100\n",
            "84/84 [==============================] - 0s 2ms/step - loss: 0.0050\n",
            "Epoch 45/100\n",
            "84/84 [==============================] - 0s 2ms/step - loss: 0.0045\n",
            "Epoch 46/100\n",
            "84/84 [==============================] - 0s 2ms/step - loss: 0.0046\n",
            "Epoch 47/100\n",
            "84/84 [==============================] - 0s 2ms/step - loss: 0.0047\n",
            "Epoch 48/100\n",
            "84/84 [==============================] - 0s 2ms/step - loss: 0.0046\n",
            "Epoch 49/100\n",
            "84/84 [==============================] - 0s 2ms/step - loss: 0.0040\n",
            "Epoch 50/100\n",
            "84/84 [==============================] - 0s 2ms/step - loss: 0.0048\n",
            "Epoch 51/100\n",
            "84/84 [==============================] - 0s 2ms/step - loss: 0.0044\n",
            "Epoch 52/100\n",
            "84/84 [==============================] - 0s 2ms/step - loss: 0.0045\n",
            "Epoch 53/100\n",
            "84/84 [==============================] - 0s 2ms/step - loss: 0.0044\n",
            "Epoch 54/100\n",
            "84/84 [==============================] - 0s 2ms/step - loss: 0.0045\n",
            "Epoch 55/100\n",
            "84/84 [==============================] - 0s 2ms/step - loss: 0.0038\n",
            "Epoch 56/100\n",
            "84/84 [==============================] - 0s 2ms/step - loss: 0.0053\n",
            "Epoch 57/100\n",
            "84/84 [==============================] - 0s 2ms/step - loss: 0.0040\n",
            "Epoch 58/100\n",
            "84/84 [==============================] - 0s 2ms/step - loss: 0.0047\n",
            "Epoch 59/100\n",
            "84/84 [==============================] - 0s 2ms/step - loss: 0.0045\n",
            "Epoch 60/100\n",
            "84/84 [==============================] - 0s 2ms/step - loss: 0.0042\n",
            "Epoch 61/100\n",
            "84/84 [==============================] - 0s 2ms/step - loss: 0.0045\n",
            "Epoch 62/100\n",
            "84/84 [==============================] - 0s 2ms/step - loss: 0.0037\n",
            "Epoch 63/100\n",
            "84/84 [==============================] - 0s 2ms/step - loss: 0.0041\n",
            "Epoch 64/100\n",
            "84/84 [==============================] - 0s 2ms/step - loss: 0.0046\n",
            "Epoch 65/100\n",
            "84/84 [==============================] - 0s 2ms/step - loss: 0.0044\n",
            "Epoch 66/100\n",
            "84/84 [==============================] - 0s 2ms/step - loss: 0.0045\n",
            "Epoch 67/100\n",
            "84/84 [==============================] - 0s 2ms/step - loss: 0.0046\n",
            "Epoch 68/100\n",
            "84/84 [==============================] - 0s 2ms/step - loss: 0.0041\n",
            "Epoch 69/100\n",
            "84/84 [==============================] - 0s 2ms/step - loss: 0.0040\n",
            "Epoch 70/100\n",
            "84/84 [==============================] - 0s 2ms/step - loss: 0.0040\n",
            "Epoch 71/100\n",
            "84/84 [==============================] - 0s 2ms/step - loss: 0.0043\n",
            "Epoch 72/100\n",
            "84/84 [==============================] - 0s 2ms/step - loss: 0.0046\n",
            "Epoch 73/100\n",
            "84/84 [==============================] - 0s 2ms/step - loss: 0.0039\n",
            "Epoch 74/100\n",
            "84/84 [==============================] - 0s 2ms/step - loss: 0.0047\n",
            "Epoch 75/100\n",
            "84/84 [==============================] - 0s 2ms/step - loss: 0.0043\n",
            "Epoch 76/100\n",
            "84/84 [==============================] - 0s 2ms/step - loss: 0.0042\n",
            "Epoch 77/100\n",
            "84/84 [==============================] - 0s 2ms/step - loss: 0.0040\n",
            "Epoch 78/100\n",
            "84/84 [==============================] - 0s 2ms/step - loss: 0.0048\n",
            "Epoch 79/100\n",
            "84/84 [==============================] - 0s 2ms/step - loss: 0.0044\n",
            "Epoch 80/100\n",
            "84/84 [==============================] - 0s 2ms/step - loss: 0.0038\n",
            "Epoch 81/100\n",
            "84/84 [==============================] - 0s 2ms/step - loss: 0.0038\n",
            "Epoch 82/100\n",
            "84/84 [==============================] - 0s 2ms/step - loss: 0.0039\n",
            "Epoch 83/100\n",
            "84/84 [==============================] - 0s 2ms/step - loss: 0.0039\n",
            "Epoch 84/100\n",
            "84/84 [==============================] - 0s 2ms/step - loss: 0.0039\n",
            "Epoch 85/100\n",
            "84/84 [==============================] - 0s 2ms/step - loss: 0.0041\n",
            "Epoch 86/100\n",
            "84/84 [==============================] - 0s 2ms/step - loss: 0.0044\n",
            "Epoch 87/100\n",
            "84/84 [==============================] - 0s 2ms/step - loss: 0.0051\n",
            "Epoch 88/100\n",
            "84/84 [==============================] - 0s 2ms/step - loss: 0.0045\n",
            "Epoch 89/100\n",
            "84/84 [==============================] - 0s 2ms/step - loss: 0.0042\n",
            "Epoch 90/100\n",
            "84/84 [==============================] - 0s 2ms/step - loss: 0.0041\n",
            "Epoch 91/100\n",
            "84/84 [==============================] - 0s 2ms/step - loss: 0.0045\n",
            "Epoch 92/100\n",
            "84/84 [==============================] - 0s 2ms/step - loss: 0.0038\n",
            "Epoch 93/100\n",
            "84/84 [==============================] - 0s 2ms/step - loss: 0.0040\n",
            "Epoch 94/100\n",
            "84/84 [==============================] - 0s 2ms/step - loss: 0.0048\n",
            "Epoch 95/100\n",
            "84/84 [==============================] - 0s 2ms/step - loss: 0.0041\n",
            "Epoch 96/100\n",
            "84/84 [==============================] - 0s 2ms/step - loss: 0.0038\n",
            "Epoch 97/100\n",
            "84/84 [==============================] - 0s 2ms/step - loss: 0.0043\n",
            "Epoch 98/100\n",
            "84/84 [==============================] - 0s 2ms/step - loss: 0.0037\n",
            "Epoch 99/100\n",
            "84/84 [==============================] - 0s 2ms/step - loss: 0.0041\n",
            "Epoch 100/100\n",
            "84/84 [==============================] - 0s 2ms/step - loss: 0.0041\n"
          ],
          "name": "stdout"
        },
        {
          "output_type": "execute_result",
          "data": {
            "text/plain": [
              "<keras.callbacks.History at 0x7fb409fb2f60>"
            ]
          },
          "metadata": {
            "tags": []
          },
          "execution_count": 24
        }
      ]
    },
    {
      "metadata": {
        "id": "iFfqQU-91rID",
        "colab_type": "code",
        "colab": {}
      },
      "cell_type": "code",
      "source": [
        "testPredict=model.predict(testX)\n",
        "testPredict=scaler.inverse_transform(testPredict).ravel()\n",
        "\n",
        "trainPredict=model.predict(trainX)\n",
        "trainPredict=scaler.inverse_transform(trainPredict).ravel()\n",
        "\n",
        "testTrue=scaler.inverse_transform([testY]).ravel()\n",
        "trainTrue=scaler.inverse_transform([trainY]).ravel()\n",
        "\n"
      ],
      "execution_count": 0,
      "outputs": []
    },
    {
      "metadata": {
        "id": "R9n3pViQ9sNu",
        "colab_type": "code",
        "colab": {}
      },
      "cell_type": "code",
      "source": [
        "import matplotlib.pyplot as plt"
      ],
      "execution_count": 0,
      "outputs": []
    },
    {
      "metadata": {
        "id": "2Q1Hc6Xg9wC2",
        "colab_type": "code",
        "colab": {
          "base_uri": "https://localhost:8080/",
          "height": 347
        },
        "outputId": "5fe11ff0-5292-4fce-bb7d-4aa64425ef93"
      },
      "cell_type": "code",
      "source": [
        "plt.plot(trainTrue,c=\"g\")\n",
        "plt.plot(testTrue,c=\"y\")\n",
        "plt.show()"
      ],
      "execution_count": 28,
      "outputs": [
        {
          "output_type": "display_data",
          "data": {
            "image/png": "[encoded data removed]",
            "text/plain": [
              "<Figure size 576x396 with 1 Axes>"
            ]
          },
          "metadata": {
            "tags": []
          }
        }
      ]
    },
    {
      "metadata": {
        "id": "zB2mrebt9Kpi",
        "colab_type": "code",
        "colab": {
          "base_uri": "https://localhost:8080/",
          "height": 347
        },
        "outputId": "9b3fa0f3-ea21-49b8-f6ab-84b00779b119"
      },
      "cell_type": "code",
      "source": [
        "combinedPredicted=np.concatenate((trainPredict,testPredict))\n",
        "combinedTrue=np.concatenate((trainTrue,testTrue))\n",
        "plt.plot(combinedPredicted,c=\"g\")\n",
        "plt.plot(combinedTrue,c='r')\n",
        "plt.show()"
      ],
      "execution_count": 29,
      "outputs": [
        {
          "output_type": "display_data",
          "data": {
            "image/png": "[encoded data removed]",
            "text/plain": [
              "<Figure size 576x396 with 1 Axes>"
            ]
          },
          "metadata": {
            "tags": []
          }
        }
      ]
    },
    {
      "metadata": {
        "id": "sefYo65t-XFY",
        "colab_type": "code",
        "colab": {}
      },
      "cell_type": "code",
      "source": [
        ""
      ],
      "execution_count": 0,
      "outputs": []
    }
  ]
}