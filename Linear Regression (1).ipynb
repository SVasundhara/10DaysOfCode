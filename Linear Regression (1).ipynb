{
 "cells": [
  {
   "cell_type": "code",
   "execution_count": 10,
   "metadata": {},
   "outputs": [
    {
     "data": {
      "text/plain": [
       "(-0.031804343026759746, array([0.39390555]))"
      ]
     },
     "execution_count": 10,
     "metadata": {},
     "output_type": "execute_result"
    }
   ],
   "source": [
    "#ordinary least squares\n",
    "from sklearn.linear_model import LinearRegression\n",
    "import mglearn\n",
    "from sklearn.model_selection import train_test_split\n",
    "import mglearn.plots\n",
    "x,y=mglearn.datasets.make_wave(n_samples=60)\n",
    "x_train,x_test,y_train,y_test=train_test_split(x,y,random_state=42)\n",
    "lr=LinearRegression().fit(x_train,y_train)\n",
    "lr.intercept_,lr.coef_"
   ]
  },
  {
   "cell_type": "code",
   "execution_count": 12,
   "metadata": {},
   "outputs": [
    {
     "data": {
      "text/plain": [
       "(0.6700890315075756, 0.65933685968637)"
      ]
     },
     "execution_count": 12,
     "metadata": {},
     "output_type": "execute_result"
    }
   ],
   "source": [
    "lr.score(x_train,y_train),lr.score(x_test,y_test)"
   ]
  },
  {
   "cell_type": "code",
   "execution_count": 27,
   "metadata": {},
   "outputs": [
    {
     "data": {
      "text/plain": [
       "33.88721727746189"
      ]
     },
     "execution_count": 27,
     "metadata": {},
     "output_type": "execute_result"
    }
   ],
   "source": [
    "#Linear Regression Model for boston housing dataset\n",
    "X, y = mglearn.datasets.load_extended_boston()\n",
    "X_train, X_test, y_train, y_test = train_test_split(X, y, random_state=0)\n",
    "lr = LinearRegression().fit(X_train, y_train)\n",
    "#print(\"training score: %f\" % lr.score(X_train, y_train))\n",
    "#print(\"test score: %f\" % lr.score(X_test, y_test))\n",
    "lr.coef_.mean()"
   ]
  },
  {
   "cell_type": "code",
   "execution_count": 25,
   "metadata": {},
   "outputs": [
    {
     "data": {
      "text/plain": [
       "-0.4376729830217766"
      ]
     },
     "execution_count": 25,
     "metadata": {},
     "output_type": "execute_result"
    }
   ],
   "source": [
    "#ridge regression:= l2 regularization\n",
    "#constraint-regularization - to avoid overfitting\n",
    "#coef should be plose to zere0\n",
    "from sklearn.linear_model import Ridge\n",
    "ridge = Ridge().fit(X_train, y_train)\n",
    "#print(\"training set score: %f\" % ridge.score(X_train, y_train))\n",
    "#print(\"test set score: %f\" % ridge.score(X_test, y_test))\n",
    "ridge.coef_.mean()\n",
    "\n"
   ]
  },
  {
   "cell_type": "code",
   "execution_count": 30,
   "metadata": {},
   "outputs": [
    {
     "data": {
      "text/plain": [
       "(-0.2913307498058464, -0.21694838566317998)"
      ]
     },
     "execution_count": 30,
     "metadata": {},
     "output_type": "execute_result"
    }
   ],
   "source": [
    "#How much importance the\n",
    "#model places on simplicity versus training set performance can be specified by the\n",
    "#user, using the alpha parameter. Above, we used the default parameter alpha=1.0.\n",
    "#There is no reason why this would give us the best trade-off, though. Increasing alpha\n",
    "#forces coefficients to move more towards zero, which decreases training set perfor‐\n",
    "#mance, but might help generalization.\n",
    "ridge10 = Ridge(alpha=10).fit(X_train, y_train)\n",
    "#print(\"training set score: %f\" % ridge10.score(X_train, y_train))\n",
    "#print(\"test set score: %f\" % ridge10.score(X_test, y_test))\n",
    "#Decreasing alpha allows the coefficients to be less restricted, meaning we move right\n",
    "#on the figure XXX.\n",
    "#For very small values of alpha, coefficients are barely restricted at all, and we end up\n",
    "#with a model that resembles LinearRegression.\n",
    "ridge01 = Ridge(alpha=0.1).fit(X_train, y_train)\n",
    "#print(\"training set score: %f\" % ridge01.score(X_train, y_train))\n",
    "#print(\"test set score: %f\" % ridge01.score(X_test, y_test))\n",
    "ridge10.coef_.mean(),ridge01.coef_.mean()"
   ]
  },
  {
   "cell_type": "code",
   "execution_count": 33,
   "metadata": {},
   "outputs": [
    {
     "name": "stdout",
     "output_type": "stream",
     "text": [
      "training set score: 0.293238\n",
      "test set score: 0.209375\n",
      "number of features used: 4\n"
     ]
    }
   ],
   "source": [
    "#LASSO\n",
    "import numpy as np\n",
    "#L1 regularization\n",
    "#another form of ridge\n",
    "# some coef are actually zero\n",
    "# feature selection\n",
    "from sklearn.linear_model import Lasso\n",
    "lasso = Lasso().fit(X_train, y_train)\n",
    "print(\"training set score: %f\" % lasso.score(X_train, y_train))\n",
    "print(\"test set score: %f\" % lasso.score(X_test, y_test))\n",
    "print(\"number of features used: %d\" % np.sum(lasso.coef_ != 0))\n",
    "#bad results due to underfitting"
   ]
  }
 ],
 "metadata": {
  "kernelspec": {
   "display_name": "Python 3",
   "language": "python",
   "name": "python3"
  },
  "language_info": {
   "codemirror_mode": {
    "name": "ipython",
    "version": 3
   },
   "file_extension": ".py",
   "mimetype": "text/x-python",
   "name": "python",
   "nbconvert_exporter": "python",
   "pygments_lexer": "ipython3",
   "version": "3.7.1"
  }
 },
 "nbformat": 4,
 "nbformat_minor": 2
}
